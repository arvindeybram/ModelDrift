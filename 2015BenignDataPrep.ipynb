{
 "cells": [
  {
   "cell_type": "code",
   "execution_count": 1,
   "metadata": {},
   "outputs": [],
   "source": [
    "import pandas as pd\n",
    "import numpy as np"
   ]
  },
  {
   "cell_type": "code",
   "execution_count": 21,
   "metadata": {},
   "outputs": [],
   "source": [
    "file1=pd.read_csv(\"Benign/benign/alexa_top-1m.txt\",names=[\"url\"])\n",
    "file2=pd.read_csv(\"Benign/benign/Alexa_Top_10k.csv\",names=[\"url\"])\n",
    "file3=pd.read_csv(\"Benign/benign/alexa_depth_1_1000.txt\",names=[\"url\"])"
   ]
  },
  {
   "cell_type": "code",
   "execution_count": 22,
   "metadata": {},
   "outputs": [],
   "source": [
    "file=file1.append(file2)\n",
    "file=file.append(file3)\n",
    "file=file.drop_duplicates()"
   ]
  },
  {
   "cell_type": "code",
   "execution_count": 23,
   "metadata": {},
   "outputs": [],
   "source": [
    "file[\"Label\"]=0"
   ]
  },
  {
   "cell_type": "code",
   "execution_count": 24,
   "metadata": {},
   "outputs": [],
   "source": [
    "file.url=\"https://www.\"+file.url"
   ]
  },
  {
   "cell_type": "code",
   "execution_count": 27,
   "metadata": {},
   "outputs": [
    {
     "data": {
      "text/html": [
       "<div>\n",
       "<style scoped>\n",
       "    .dataframe tbody tr th:only-of-type {\n",
       "        vertical-align: middle;\n",
       "    }\n",
       "\n",
       "    .dataframe tbody tr th {\n",
       "        vertical-align: top;\n",
       "    }\n",
       "\n",
       "    .dataframe thead th {\n",
       "        text-align: right;\n",
       "    }\n",
       "</style>\n",
       "<table border=\"1\" class=\"dataframe\">\n",
       "  <thead>\n",
       "    <tr style=\"text-align: right;\">\n",
       "      <th></th>\n",
       "      <th>url</th>\n",
       "      <th>Label</th>\n",
       "    </tr>\n",
       "  </thead>\n",
       "  <tbody>\n",
       "    <tr>\n",
       "      <th>95801</th>\n",
       "      <td>https://www.http://www.echo.msk.ru/about/licen...</td>\n",
       "      <td>0</td>\n",
       "    </tr>\n",
       "    <tr>\n",
       "      <th>95802</th>\n",
       "      <td>https://www.http://sc.ewt.cc/list.html?cate=00...</td>\n",
       "      <td>0</td>\n",
       "    </tr>\n",
       "    <tr>\n",
       "      <th>95803</th>\n",
       "      <td>https://www.http://sc.ewt.cc/list.html?cate=00...</td>\n",
       "      <td>0</td>\n",
       "    </tr>\n",
       "    <tr>\n",
       "      <th>95804</th>\n",
       "      <td>https://www.http://sc.ewt.cc/list.html?cate=00...</td>\n",
       "      <td>0</td>\n",
       "    </tr>\n",
       "    <tr>\n",
       "      <th>95805</th>\n",
       "      <td>https://www.http://sc.ewt.cc/list.html?cate=00...</td>\n",
       "      <td>0</td>\n",
       "    </tr>\n",
       "  </tbody>\n",
       "</table>\n",
       "</div>"
      ],
      "text/plain": [
       "                                                     url  Label\n",
       "95801  https://www.http://www.echo.msk.ru/about/licen...      0\n",
       "95802  https://www.http://sc.ewt.cc/list.html?cate=00...      0\n",
       "95803  https://www.http://sc.ewt.cc/list.html?cate=00...      0\n",
       "95804  https://www.http://sc.ewt.cc/list.html?cate=00...      0\n",
       "95805  https://www.http://sc.ewt.cc/list.html?cate=00...      0"
      ]
     },
     "execution_count": 27,
     "metadata": {},
     "output_type": "execute_result"
    }
   ],
   "source": [
    "file.tail()"
   ]
  },
  {
   "cell_type": "code",
   "execution_count": 28,
   "metadata": {},
   "outputs": [
    {
     "data": {
      "text/plain": [
       "1089803"
      ]
     },
     "execution_count": 28,
     "metadata": {},
     "output_type": "execute_result"
    }
   ],
   "source": [
    "len(file)"
   ]
  },
  {
   "cell_type": "code",
   "execution_count": 29,
   "metadata": {},
   "outputs": [],
   "source": [
    "import featX as fe\n",
    "protocol = []\n",
    "nof_vowels = []\n",
    "nof_consonants = []\n",
    "nof_special_sym = []\n",
    "nof_digits = []\n",
    "nof_alpha = []\n",
    "nof_alphanumeric = []\n",
    "nof_ques = []\n",
    "nof_dollar = []\n",
    "nof_percent = []\n",
    "nof_at = []\n",
    "nof_dash = []\n",
    "nof_dots = []\n",
    "nof_dir = []\n",
    "nof_www = []\n",
    "nof_http = []\n",
    "nof_eq = []\n",
    "vowel_consonant_ratio = []\n",
    "len_url = []\n",
    "length_fqdn = []\n",
    "length_freeurl = []\n",
    "dots_freeurl = []\n",
    "dig_in_hostname = []\n",
    "alph_digit_ratio = []\n",
    "host_dig_let_ratio = []\n",
    "subdomain_len = []\n",
    "dash_in_path = []\n",
    "terms_in_url = []\n",
    "longest_token = []\n",
    "longest_token_hostname = []\n",
    "length_of_domains = []\n",
    "terms_in_subdomain = []\n",
    "\n",
    "for i in file.url:\n",
    "    protocol.append(fe.protocol(i))\n",
    "    nof_vowels.append(fe.nof_vowels(i))\n",
    "    nof_consonants.append(fe.nof_consonants(i))\n",
    "    nof_special_sym.append(fe.nof_special_sym(i))\n",
    "    nof_digits.append(fe.nof_digits(i))\n",
    "    nof_alpha.append(fe.nof_alpha(i))\n",
    "    nof_alphanumeric.append(fe.nof_alphanumeric(i))\n",
    "    nof_ques.append(fe.nof_ques(i))\n",
    "    nof_dollar.append(fe.nof_dollar(i))\n",
    "    nof_percent.append(fe.nof_percent(i))\n",
    "    nof_at.append(fe.nof_at(i))\n",
    "    nof_dash.append(fe.nof_dash(i))\n",
    "    nof_dots.append(fe.nof_dots(i))\n",
    "    nof_dir.append(fe.nof_dir(i))\n",
    "    nof_www.append(fe.nof_www(i))\n",
    "    nof_http.append(fe.nof_http(i))\n",
    "    nof_eq.append(fe.nof_eq(i))\n",
    "    vowel_consonant_ratio.append(fe.vowel_consonant_ratio(i))\n",
    "    len_url.append(fe.len_url(i))\n",
    "    length_fqdn.append(fe.length_fqdn(i))\n",
    "    length_freeurl.append(fe.length_freeurl(i))\n",
    "    dots_freeurl.append(fe.dots_freeurl(i))\n",
    "    dig_in_hostname.append(fe.dig_in_hostname(i))\n",
    "    alph_digit_ratio.append(fe.alph_digit_ratio(i))\n",
    "    host_dig_let_ratio.append(fe.host_dig_let_ratio(i))\n",
    "    subdomain_len.append(fe.subdomain_len(i))\n",
    "    dash_in_path.append(fe.dash_in_path(i))\n",
    "    terms_in_url.append(fe.terms_in_url(i))\n",
    "    longest_token.append(fe.longest_token(i))\n",
    "    longest_token_hostname.append(fe.longest_token_hostname(i))\n",
    "    length_of_domains.append(fe.length_of_domains(i))\n",
    "    terms_in_subdomain.append(fe.terms_in_subdomain(i))\n",
    "file[\"protocol\"] = protocol\n",
    "file[\"nof_vowels\"] = nof_vowels\n",
    "file[\"nof_consonants\"] = nof_consonants\n",
    "file[\"nof_special_sym\"] = nof_special_sym\n",
    "file[\"nof_digits\"] = nof_digits\n",
    "file[\"nof_alpha\"] = nof_alpha\n",
    "file[\"nof_alphanumeric\"] = nof_alphanumeric\n",
    "file[\"nof_ques\"] = nof_ques\n",
    "file[\"nof_dollar\"] = nof_dollar\n",
    "file[\"nof_percent\"] = nof_percent\n",
    "file[\"nof_at\"] = nof_at\n",
    "file[\"nof_dash\"] = nof_dash\n",
    "file[\"nof_dots\"] = nof_dots\n",
    "file[\"nof_dir\"] = nof_dir\n",
    "file[\"nof_www\"] = nof_www\n",
    "file[\"nof_http\"] = nof_http\n",
    "file[\"nof_eq\"] = nof_eq\n",
    "file[\"vowel_consonant_ratio\"] = vowel_consonant_ratio\n",
    "file[\"len_url\"] = len_url\n",
    "file[\"length_fqdn\"] = length_fqdn\n",
    "file[\"length_freeurl\"] = length_freeurl\n",
    "file[\"dots_freeurl\"] = dots_freeurl\n",
    "file[\"dig_in_hostname\"] = dig_in_hostname\n",
    "file[\"alph_digit_ratio\"] = alph_digit_ratio\n",
    "file[\"host_dig_let_ratio\"] = host_dig_let_ratio\n",
    "file[\"subdomain_len\"] = subdomain_len\n",
    "file[\"dash_in_path\"] = dash_in_path\n",
    "file[\"terms_in_url\"] = terms_in_url\n",
    "file[\"longest_token\"] = longest_token\n",
    "file[\"longest_token_hostname\"] = longest_token_hostname\n",
    "file[\"length_of_domains\"] = length_of_domains\n",
    "file[\"terms_in_subdomain\"] = terms_in_subdomain"
   ]
  },
  {
   "cell_type": "code",
   "execution_count": 35,
   "metadata": {},
   "outputs": [
    {
     "data": {
      "text/html": [
       "<div>\n",
       "<style scoped>\n",
       "    .dataframe tbody tr th:only-of-type {\n",
       "        vertical-align: middle;\n",
       "    }\n",
       "\n",
       "    .dataframe tbody tr th {\n",
       "        vertical-align: top;\n",
       "    }\n",
       "\n",
       "    .dataframe thead th {\n",
       "        text-align: right;\n",
       "    }\n",
       "</style>\n",
       "<table border=\"1\" class=\"dataframe\">\n",
       "  <thead>\n",
       "    <tr style=\"text-align: right;\">\n",
       "      <th></th>\n",
       "      <th>url</th>\n",
       "      <th>Label</th>\n",
       "      <th>protocol</th>\n",
       "      <th>nof_vowels</th>\n",
       "      <th>nof_consonants</th>\n",
       "      <th>nof_special_sym</th>\n",
       "      <th>nof_digits</th>\n",
       "      <th>nof_alpha</th>\n",
       "      <th>nof_alphanumeric</th>\n",
       "      <th>nof_ques</th>\n",
       "      <th>...</th>\n",
       "      <th>dig_in_hostname</th>\n",
       "      <th>alph_digit_ratio</th>\n",
       "      <th>host_dig_let_ratio</th>\n",
       "      <th>subdomain_len</th>\n",
       "      <th>dash_in_path</th>\n",
       "      <th>terms_in_url</th>\n",
       "      <th>longest_token</th>\n",
       "      <th>longest_token_hostname</th>\n",
       "      <th>length_of_domains</th>\n",
       "      <th>terms_in_subdomain</th>\n",
       "    </tr>\n",
       "  </thead>\n",
       "  <tbody>\n",
       "    <tr>\n",
       "      <th>1</th>\n",
       "      <td>https://www.google.com</td>\n",
       "      <td>0</td>\n",
       "      <td>1</td>\n",
       "      <td>4</td>\n",
       "      <td>13</td>\n",
       "      <td>1</td>\n",
       "      <td>0</td>\n",
       "      <td>17</td>\n",
       "      <td>17</td>\n",
       "      <td>0</td>\n",
       "      <td>...</td>\n",
       "      <td>0</td>\n",
       "      <td>17.0</td>\n",
       "      <td>17.0</td>\n",
       "      <td>3</td>\n",
       "      <td>0</td>\n",
       "      <td>4</td>\n",
       "      <td>6</td>\n",
       "      <td>6</td>\n",
       "      <td>6</td>\n",
       "      <td>1</td>\n",
       "    </tr>\n",
       "  </tbody>\n",
       "</table>\n",
       "<p>1 rows × 34 columns</p>\n",
       "</div>"
      ],
      "text/plain": [
       "                      url  Label  protocol  nof_vowels  nof_consonants  \\\n",
       "1  https://www.google.com      0         1           4              13   \n",
       "\n",
       "   nof_special_sym  nof_digits  nof_alpha  nof_alphanumeric  nof_ques  \\\n",
       "1                1           0         17                17         0   \n",
       "\n",
       "          ...          dig_in_hostname  alph_digit_ratio  host_dig_let_ratio  \\\n",
       "1         ...                        0              17.0                17.0   \n",
       "\n",
       "   subdomain_len  dash_in_path  terms_in_url  longest_token  \\\n",
       "1              3             0             4              6   \n",
       "\n",
       "   longest_token_hostname  length_of_domains  terms_in_subdomain  \n",
       "1                       6                  6                   1  \n",
       "\n",
       "[1 rows x 34 columns]"
      ]
     },
     "execution_count": 35,
     "metadata": {},
     "output_type": "execute_result"
    }
   ],
   "source": [
    "file[:1]"
   ]
  },
  {
   "cell_type": "code",
   "execution_count": 31,
   "metadata": {},
   "outputs": [],
   "source": [
    "file.to_csv(\"../FINAL DATA PREP/2015benign.csv\")"
   ]
  }
 ],
 "metadata": {
  "kernelspec": {
   "display_name": "Python 3",
   "language": "python",
   "name": "python3"
  },
  "language_info": {
   "codemirror_mode": {
    "name": "ipython",
    "version": 3
   },
   "file_extension": ".py",
   "mimetype": "text/x-python",
   "name": "python",
   "nbconvert_exporter": "python",
   "pygments_lexer": "ipython3",
   "version": "3.6.7"
  }
 },
 "nbformat": 4,
 "nbformat_minor": 2
}
