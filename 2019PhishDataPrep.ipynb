{
 "cells": [
  {
   "cell_type": "code",
   "execution_count": 2,
   "metadata": {},
   "outputs": [],
   "source": [
    "import pandas as pd\n",
    "import numpy as np\n",
    "from pandas import Timestamp"
   ]
  },
  {
   "cell_type": "code",
   "execution_count": 2,
   "metadata": {},
   "outputs": [],
   "source": [
    "f1 = pd.read_csv(\"Phish/phishtank.csv\")\n",
    "f2 = pd.read_csv(\"Phish/PhishDec13.csv\")\n",
    "f3 = pd.read_csv(\"Phish/PhishMarch4.csv\")\n",
    "f4 = pd.read_csv(\"Phish/PhishMarch23.csv\")\n",
    "f5 = pd.read_csv(\"Phish/PhishMay9.csv\")\n",
    "f6 = pd.read_csv(\"Phish/phishtank2019may20.csv\")"
   ]
  },
  {
   "cell_type": "code",
   "execution_count": 3,
   "metadata": {},
   "outputs": [],
   "source": [
    "f1=f1.drop([\"phish_id\",\"phish_detail_url\",\"verified\",\"online\",\"target\",\"verification_time\"],axis=1)\n",
    "f2=f2.drop([\"phish_id\",\"phish_detail_url\",\"verified\",\"online\",\"target\",\"verification_time\"],axis=1)\n",
    "f3=f3.drop([\"phish_id\",\"phish_detail_url\",\"verified\",\"online\",\"target\",\"verification_time\"],axis=1)\n",
    "f4=f4.drop([\"phish_id\",\"phish_detail_url\",\"verified\",\"online\",\"target\",\"verification_time\"],axis=1)\n",
    "f5=f5.drop([\"phish_id\",\"phish_detail_url\",\"verified\",\"online\",\"target\",\"verification_time\"],axis=1)\n",
    "f6=f6.drop([\"phish_id\",\"phish_detail_url\",\"verified\",\"online\",\"target\",\"verification_time\"],axis=1)"
   ]
  },
  {
   "cell_type": "code",
   "execution_count": 4,
   "metadata": {},
   "outputs": [
    {
     "name": "stdout",
     "output_type": "stream",
     "text": [
      "99159\n"
     ]
    }
   ],
   "source": [
    "total = len(f1)+len(f2)+len(f3)+len(f4)+len(f5)+len(f6)\n",
    "print(total)"
   ]
  },
  {
   "cell_type": "code",
   "execution_count": 5,
   "metadata": {},
   "outputs": [],
   "source": [
    "all_in_one = None"
   ]
  },
  {
   "cell_type": "code",
   "execution_count": 6,
   "metadata": {},
   "outputs": [
    {
     "data": {
      "text/plain": [
       "99159"
      ]
     },
     "execution_count": 6,
     "metadata": {},
     "output_type": "execute_result"
    }
   ],
   "source": [
    "all_in_one = f1.append(f2)\n",
    "all_in_one = all_in_one.append(f3)\n",
    "all_in_one = all_in_one.append(f4)\n",
    "all_in_one = all_in_one.append(f5)\n",
    "all_in_one = all_in_one.append(f6)\n",
    "len(all_in_one)"
   ]
  },
  {
   "cell_type": "code",
   "execution_count": 7,
   "metadata": {},
   "outputs": [],
   "source": [
    "all_in_one[\"submission\"]=[i[:10] for i in all_in_one.submission_time]\n",
    "all_in_one[\"year\"]=[i[:4] for i in all_in_one.submission]"
   ]
  },
  {
   "cell_type": "code",
   "execution_count": 8,
   "metadata": {},
   "outputs": [],
   "source": [
    "all_in_one=all_in_one.drop(\"submission_time\",axis=1)"
   ]
  },
  {
   "cell_type": "code",
   "execution_count": 9,
   "metadata": {
    "scrolled": true
   },
   "outputs": [
    {
     "data": {
      "text/html": [
       "<div>\n",
       "<style scoped>\n",
       "    .dataframe tbody tr th:only-of-type {\n",
       "        vertical-align: middle;\n",
       "    }\n",
       "\n",
       "    .dataframe tbody tr th {\n",
       "        vertical-align: top;\n",
       "    }\n",
       "\n",
       "    .dataframe thead th {\n",
       "        text-align: right;\n",
       "    }\n",
       "</style>\n",
       "<table border=\"1\" class=\"dataframe\">\n",
       "  <thead>\n",
       "    <tr style=\"text-align: right;\">\n",
       "      <th></th>\n",
       "      <th>url</th>\n",
       "      <th>submission</th>\n",
       "      <th>year</th>\n",
       "    </tr>\n",
       "  </thead>\n",
       "  <tbody>\n",
       "    <tr>\n",
       "      <th>0</th>\n",
       "      <td>http://www.lineac.cn/</td>\n",
       "      <td>2018-07-17</td>\n",
       "      <td>2018</td>\n",
       "    </tr>\n",
       "    <tr>\n",
       "      <th>1</th>\n",
       "      <td>http://www.soradtt.com/werinkolss/</td>\n",
       "      <td>2018-07-16</td>\n",
       "      <td>2018</td>\n",
       "    </tr>\n",
       "    <tr>\n",
       "      <th>2</th>\n",
       "      <td>http://irs.tax.gov.customercare.3206250713.tax...</td>\n",
       "      <td>2018-07-16</td>\n",
       "      <td>2018</td>\n",
       "    </tr>\n",
       "    <tr>\n",
       "      <th>3</th>\n",
       "      <td>http://taxi956.ru/irs/</td>\n",
       "      <td>2018-07-16</td>\n",
       "      <td>2018</td>\n",
       "    </tr>\n",
       "    <tr>\n",
       "      <th>4</th>\n",
       "      <td>https://mankyousam.info/lil/att/attiinnddeexx.php</td>\n",
       "      <td>2018-07-16</td>\n",
       "      <td>2018</td>\n",
       "    </tr>\n",
       "  </tbody>\n",
       "</table>\n",
       "</div>"
      ],
      "text/plain": [
       "                                                 url  submission  year\n",
       "0                              http://www.lineac.cn/  2018-07-17  2018\n",
       "1                 http://www.soradtt.com/werinkolss/  2018-07-16  2018\n",
       "2  http://irs.tax.gov.customercare.3206250713.tax...  2018-07-16  2018\n",
       "3                             http://taxi956.ru/irs/  2018-07-16  2018\n",
       "4  https://mankyousam.info/lil/att/attiinnddeexx.php  2018-07-16  2018"
      ]
     },
     "execution_count": 9,
     "metadata": {},
     "output_type": "execute_result"
    }
   ],
   "source": [
    "all_in_one.head()"
   ]
  },
  {
   "cell_type": "code",
   "execution_count": 10,
   "metadata": {},
   "outputs": [],
   "source": [
    "all_in_one['Timestamp'] = pd.to_datetime(all_in_one['submission'], errors='coerce')"
   ]
  },
  {
   "cell_type": "code",
   "execution_count": 11,
   "metadata": {},
   "outputs": [],
   "source": [
    "f1 = f2 = f3 = f4 = 0\n",
    "for i in all_in_one.submission:\n",
    "    if \"2018\" in i:\n",
    "        f1+=1\n",
    "    elif \"2019\" in i:\n",
    "        f2+=1\n",
    "    elif \"2016\" in i:\n",
    "        f3+=1\n",
    "    elif \"2017\" in i:\n",
    "        f4 += 1"
   ]
  },
  {
   "cell_type": "code",
   "execution_count": null,
   "metadata": {},
   "outputs": [],
   "source": []
  },
  {
   "cell_type": "code",
   "execution_count": null,
   "metadata": {},
   "outputs": [],
   "source": []
  },
  {
   "cell_type": "code",
   "execution_count": 12,
   "metadata": {},
   "outputs": [
    {
     "data": {
      "text/plain": [
       "99159"
      ]
     },
     "execution_count": 12,
     "metadata": {},
     "output_type": "execute_result"
    }
   ],
   "source": [
    "len(all_in_one)"
   ]
  },
  {
   "cell_type": "code",
   "execution_count": 13,
   "metadata": {},
   "outputs": [],
   "source": [
    "year_list = []\n",
    "for i in all_in_one.submission:\n",
    "    j = i.split(\"-\")[0]\n",
    "    if j not in year_list:\n",
    "        year_list.append(j)"
   ]
  },
  {
   "cell_type": "code",
   "execution_count": 14,
   "metadata": {},
   "outputs": [],
   "source": [
    "year_list = [int(i) for i in year_list if type(i) == str]"
   ]
  },
  {
   "cell_type": "code",
   "execution_count": 15,
   "metadata": {},
   "outputs": [
    {
     "data": {
      "text/plain": [
       "[2008, 2009, 2010, 2011, 2012, 2013, 2014, 2015, 2016, 2017, 2018, 2019]"
      ]
     },
     "execution_count": 15,
     "metadata": {},
     "output_type": "execute_result"
    }
   ],
   "source": [
    "year_list.sort()\n",
    "year_list"
   ]
  },
  {
   "cell_type": "code",
   "execution_count": 16,
   "metadata": {},
   "outputs": [],
   "source": [
    "all_in_one = all_in_one.sort_values(\"submission\")"
   ]
  },
  {
   "cell_type": "code",
   "execution_count": null,
   "metadata": {},
   "outputs": [],
   "source": []
  },
  {
   "cell_type": "code",
   "execution_count": 17,
   "metadata": {},
   "outputs": [],
   "source": [
    "unique_elements = all_in_one.drop_duplicates()"
   ]
  },
  {
   "cell_type": "code",
   "execution_count": 18,
   "metadata": {},
   "outputs": [
    {
     "data": {
      "text/html": [
       "<div>\n",
       "<style scoped>\n",
       "    .dataframe tbody tr th:only-of-type {\n",
       "        vertical-align: middle;\n",
       "    }\n",
       "\n",
       "    .dataframe tbody tr th {\n",
       "        vertical-align: top;\n",
       "    }\n",
       "\n",
       "    .dataframe thead th {\n",
       "        text-align: right;\n",
       "    }\n",
       "</style>\n",
       "<table border=\"1\" class=\"dataframe\">\n",
       "  <thead>\n",
       "    <tr style=\"text-align: right;\">\n",
       "      <th></th>\n",
       "      <th>url</th>\n",
       "      <th>submission</th>\n",
       "      <th>year</th>\n",
       "      <th>Timestamp</th>\n",
       "    </tr>\n",
       "  </thead>\n",
       "  <tbody>\n",
       "    <tr>\n",
       "      <th>32238</th>\n",
       "      <td>http://www.avgt.com/www.paypal.com/clients/upd...</td>\n",
       "      <td>2008-06-20</td>\n",
       "      <td>2008</td>\n",
       "      <td>2008-06-20</td>\n",
       "    </tr>\n",
       "    <tr>\n",
       "      <th>32236</th>\n",
       "      <td>http://www.paypal.com.serv-1-redirect.aortadob...</td>\n",
       "      <td>2008-06-27</td>\n",
       "      <td>2008</td>\n",
       "      <td>2008-06-27</td>\n",
       "    </tr>\n",
       "    <tr>\n",
       "      <th>32237</th>\n",
       "      <td>http://www.avgt.com/update.paypal.com/clients/...</td>\n",
       "      <td>2008-06-27</td>\n",
       "      <td>2008</td>\n",
       "      <td>2008-06-27</td>\n",
       "    </tr>\n",
       "    <tr>\n",
       "      <th>32235</th>\n",
       "      <td>http://www.paypal.com.serv-5-redirect.aortadob...</td>\n",
       "      <td>2008-06-29</td>\n",
       "      <td>2008</td>\n",
       "      <td>2008-06-29</td>\n",
       "    </tr>\n",
       "    <tr>\n",
       "      <th>32234</th>\n",
       "      <td>http://www.comictube.com/m_hotties/.www.paypal...</td>\n",
       "      <td>2008-07-10</td>\n",
       "      <td>2008</td>\n",
       "      <td>2008-07-10</td>\n",
       "    </tr>\n",
       "  </tbody>\n",
       "</table>\n",
       "</div>"
      ],
      "text/plain": [
       "                                                     url  submission  year  \\\n",
       "32238  http://www.avgt.com/www.paypal.com/clients/upd...  2008-06-20  2008   \n",
       "32236  http://www.paypal.com.serv-1-redirect.aortadob...  2008-06-27  2008   \n",
       "32237  http://www.avgt.com/update.paypal.com/clients/...  2008-06-27  2008   \n",
       "32235  http://www.paypal.com.serv-5-redirect.aortadob...  2008-06-29  2008   \n",
       "32234  http://www.comictube.com/m_hotties/.www.paypal...  2008-07-10  2008   \n",
       "\n",
       "       Timestamp  \n",
       "32238 2008-06-20  \n",
       "32236 2008-06-27  \n",
       "32237 2008-06-27  \n",
       "32235 2008-06-29  \n",
       "32234 2008-07-10  "
      ]
     },
     "execution_count": 18,
     "metadata": {},
     "output_type": "execute_result"
    }
   ],
   "source": [
    "unique_elements.head()"
   ]
  },
  {
   "cell_type": "code",
   "execution_count": null,
   "metadata": {},
   "outputs": [],
   "source": []
  },
  {
   "cell_type": "code",
   "execution_count": 19,
   "metadata": {},
   "outputs": [],
   "source": [
    "#unique_elements.sort_ \n",
    "#week_number.value_counts(sort=True)"
   ]
  },
  {
   "cell_type": "code",
   "execution_count": 20,
   "metadata": {},
   "outputs": [
    {
     "data": {
      "text/plain": [
       "371"
      ]
     },
     "execution_count": 20,
     "metadata": {},
     "output_type": "execute_result"
    }
   ],
   "source": [
    "53*7"
   ]
  },
  {
   "cell_type": "code",
   "execution_count": 21,
   "metadata": {},
   "outputs": [],
   "source": [
    "#unique_elements[\"year\"]=[i[:4] for i in unique_elements.submission]"
   ]
  },
  {
   "cell_type": "code",
   "execution_count": 22,
   "metadata": {},
   "outputs": [
    {
     "data": {
      "text/plain": [
       "58407"
      ]
     },
     "execution_count": 22,
     "metadata": {},
     "output_type": "execute_result"
    }
   ],
   "source": [
    "#unique_elements.year.value_counts()\n",
    "len(unique_elements)"
   ]
  },
  {
   "cell_type": "code",
   "execution_count": 23,
   "metadata": {},
   "outputs": [],
   "source": [
    "last_year = unique_elements.loc[unique_elements['year'] == \"2018\"]\n",
    "this_year = unique_elements.loc[unique_elements['year'] == \"2019\"]"
   ]
  },
  {
   "cell_type": "code",
   "execution_count": 24,
   "metadata": {},
   "outputs": [
    {
     "name": "stderr",
     "output_type": "stream",
     "text": [
      "C:\\Users\\arabraha\\AppData\\Local\\Continuum\\anaconda3\\lib\\site-packages\\ipykernel_launcher.py:1: SettingWithCopyWarning: \n",
      "A value is trying to be set on a copy of a slice from a DataFrame.\n",
      "Try using .loc[row_indexer,col_indexer] = value instead\n",
      "\n",
      "See the caveats in the documentation: http://pandas.pydata.org/pandas-docs/stable/indexing.html#indexing-view-versus-copy\n",
      "  \"\"\"Entry point for launching an IPython kernel.\n",
      "C:\\Users\\arabraha\\AppData\\Local\\Continuum\\anaconda3\\lib\\site-packages\\ipykernel_launcher.py:2: SettingWithCopyWarning: \n",
      "A value is trying to be set on a copy of a slice from a DataFrame.\n",
      "Try using .loc[row_indexer,col_indexer] = value instead\n",
      "\n",
      "See the caveats in the documentation: http://pandas.pydata.org/pandas-docs/stable/indexing.html#indexing-view-versus-copy\n",
      "  \n"
     ]
    }
   ],
   "source": [
    "last_year[\"month\"]=[i[5:7] for i in last_year.submission]\n",
    "this_year[\"month\"]=[i[5:7] for i in this_year.submission]"
   ]
  },
  {
   "cell_type": "code",
   "execution_count": 25,
   "metadata": {},
   "outputs": [],
   "source": [
    "last_year = last_year.sort_values(\"month\")\n",
    "this_year = this_year.sort_values(\"month\")"
   ]
  },
  {
   "cell_type": "code",
   "execution_count": 26,
   "metadata": {},
   "outputs": [],
   "source": [
    "#seventeenmonthdata = last_year.append(this_year)"
   ]
  },
  {
   "cell_type": "code",
   "execution_count": 27,
   "metadata": {},
   "outputs": [
    {
     "data": {
      "text/plain": [
       "44416"
      ]
     },
     "execution_count": 27,
     "metadata": {},
     "output_type": "execute_result"
    }
   ],
   "source": [
    "len(last_year)+len(this_year)"
   ]
  },
  {
   "cell_type": "code",
   "execution_count": 28,
   "metadata": {},
   "outputs": [],
   "source": [
    "#this_year.month.value_counts(ascending=True)"
   ]
  },
  {
   "cell_type": "code",
   "execution_count": 29,
   "metadata": {},
   "outputs": [],
   "source": [
    "#last_year.month.value_counts()"
   ]
  },
  {
   "cell_type": "code",
   "execution_count": 30,
   "metadata": {},
   "outputs": [],
   "source": [
    "this_year.month=[int(i)+12 for i in this_year.month[:len(this_year.month)]]"
   ]
  },
  {
   "cell_type": "code",
   "execution_count": 31,
   "metadata": {},
   "outputs": [],
   "source": [
    "last_year['week_number']=last_year['Timestamp'].dt.week\n",
    "this_year['week_number']=this_year['Timestamp'].dt.week+52"
   ]
  },
  {
   "cell_type": "code",
   "execution_count": 32,
   "metadata": {},
   "outputs": [
    {
     "data": {
      "text/plain": [
       "53     101\n",
       "54     177\n",
       "55     213\n",
       "57     307\n",
       "56     321\n",
       "73     332\n",
       "58     392\n",
       "59     511\n",
       "60     521\n",
       "61     733\n",
       "64     856\n",
       "62     908\n",
       "65     933\n",
       "66     935\n",
       "63     966\n",
       "68    1009\n",
       "69    1052\n",
       "67    1160\n",
       "71    1369\n",
       "70    1431\n",
       "72    1968\n",
       "Name: week_number, dtype: int64"
      ]
     },
     "execution_count": 32,
     "metadata": {},
     "output_type": "execute_result"
    }
   ],
   "source": [
    "this_year.week_number.value_counts(ascending=True)"
   ]
  },
  {
   "cell_type": "code",
   "execution_count": null,
   "metadata": {},
   "outputs": [],
   "source": []
  },
  {
   "cell_type": "code",
   "execution_count": 33,
   "metadata": {},
   "outputs": [],
   "source": [
    "present_data = last_year.append(this_year)"
   ]
  },
  {
   "cell_type": "code",
   "execution_count": 34,
   "metadata": {},
   "outputs": [],
   "source": [
    "present_data=present_data.sort_values(\"week_number\")"
   ]
  },
  {
   "cell_type": "code",
   "execution_count": null,
   "metadata": {},
   "outputs": [],
   "source": []
  },
  {
   "cell_type": "code",
   "execution_count": null,
   "metadata": {},
   "outputs": [],
   "source": []
  },
  {
   "cell_type": "code",
   "execution_count": 35,
   "metadata": {},
   "outputs": [],
   "source": [
    "present_data[\"Label\"]=1"
   ]
  },
  {
   "cell_type": "code",
   "execution_count": 36,
   "metadata": {},
   "outputs": [
    {
     "data": {
      "text/html": [
       "<div>\n",
       "<style scoped>\n",
       "    .dataframe tbody tr th:only-of-type {\n",
       "        vertical-align: middle;\n",
       "    }\n",
       "\n",
       "    .dataframe tbody tr th {\n",
       "        vertical-align: top;\n",
       "    }\n",
       "\n",
       "    .dataframe thead th {\n",
       "        text-align: right;\n",
       "    }\n",
       "</style>\n",
       "<table border=\"1\" class=\"dataframe\">\n",
       "  <thead>\n",
       "    <tr style=\"text-align: right;\">\n",
       "      <th></th>\n",
       "      <th>url</th>\n",
       "      <th>submission</th>\n",
       "      <th>year</th>\n",
       "      <th>Timestamp</th>\n",
       "      <th>month</th>\n",
       "      <th>week_number</th>\n",
       "      <th>Label</th>\n",
       "    </tr>\n",
       "  </thead>\n",
       "  <tbody>\n",
       "    <tr>\n",
       "      <th>18446</th>\n",
       "      <td>http://www.brianmicklethwait.com/index.php?URL...</td>\n",
       "      <td>2018-01-01</td>\n",
       "      <td>2018</td>\n",
       "      <td>2018-01-01</td>\n",
       "      <td>01</td>\n",
       "      <td>1</td>\n",
       "      <td>1</td>\n",
       "    </tr>\n",
       "    <tr>\n",
       "      <th>18413</th>\n",
       "      <td>http://hentech.com.hk/img/office360/</td>\n",
       "      <td>2018-01-02</td>\n",
       "      <td>2018</td>\n",
       "      <td>2018-01-02</td>\n",
       "      <td>01</td>\n",
       "      <td>1</td>\n",
       "      <td>1</td>\n",
       "    </tr>\n",
       "    <tr>\n",
       "      <th>18445</th>\n",
       "      <td>http://www.vineyard-garden.com/images/fd542108...</td>\n",
       "      <td>2018-01-01</td>\n",
       "      <td>2018</td>\n",
       "      <td>2018-01-01</td>\n",
       "      <td>01</td>\n",
       "      <td>1</td>\n",
       "      <td>1</td>\n",
       "    </tr>\n",
       "    <tr>\n",
       "      <th>18444</th>\n",
       "      <td>https://fquiroga.000webhostapp.com/ok/UPGRADE%...</td>\n",
       "      <td>2018-01-01</td>\n",
       "      <td>2018</td>\n",
       "      <td>2018-01-01</td>\n",
       "      <td>01</td>\n",
       "      <td>1</td>\n",
       "      <td>1</td>\n",
       "    </tr>\n",
       "    <tr>\n",
       "      <th>18442</th>\n",
       "      <td>https://sites.google.com/site/acctfbcontacus80...</td>\n",
       "      <td>2018-01-01</td>\n",
       "      <td>2018</td>\n",
       "      <td>2018-01-01</td>\n",
       "      <td>01</td>\n",
       "      <td>1</td>\n",
       "      <td>1</td>\n",
       "    </tr>\n",
       "  </tbody>\n",
       "</table>\n",
       "</div>"
      ],
      "text/plain": [
       "                                                     url  submission  year  \\\n",
       "18446  http://www.brianmicklethwait.com/index.php?URL...  2018-01-01  2018   \n",
       "18413               http://hentech.com.hk/img/office360/  2018-01-02  2018   \n",
       "18445  http://www.vineyard-garden.com/images/fd542108...  2018-01-01  2018   \n",
       "18444  https://fquiroga.000webhostapp.com/ok/UPGRADE%...  2018-01-01  2018   \n",
       "18442  https://sites.google.com/site/acctfbcontacus80...  2018-01-01  2018   \n",
       "\n",
       "       Timestamp month  week_number  Label  \n",
       "18446 2018-01-01    01            1      1  \n",
       "18413 2018-01-02    01            1      1  \n",
       "18445 2018-01-01    01            1      1  \n",
       "18444 2018-01-01    01            1      1  \n",
       "18442 2018-01-01    01            1      1  "
      ]
     },
     "execution_count": 36,
     "metadata": {},
     "output_type": "execute_result"
    }
   ],
   "source": [
    "present_data.head()"
   ]
  },
  {
   "cell_type": "code",
   "execution_count": 37,
   "metadata": {},
   "outputs": [
    {
     "data": {
      "text/plain": [
       "44416"
      ]
     },
     "execution_count": 37,
     "metadata": {},
     "output_type": "execute_result"
    }
   ],
   "source": [
    "len(present_data)"
   ]
  },
  {
   "cell_type": "code",
   "execution_count": 40,
   "metadata": {},
   "outputs": [],
   "source": [
    "present_data.to_csv(\"Phish/weeklysortedphish.csv\",index=None)"
   ]
  },
  {
   "cell_type": "code",
   "execution_count": null,
   "metadata": {},
   "outputs": [],
   "source": []
  },
  {
   "cell_type": "code",
   "execution_count": null,
   "metadata": {},
   "outputs": [],
   "source": []
  },
  {
   "cell_type": "code",
   "execution_count": null,
   "metadata": {},
   "outputs": [],
   "source": []
  },
  {
   "cell_type": "code",
   "execution_count": null,
   "metadata": {},
   "outputs": [],
   "source": []
  },
  {
   "cell_type": "code",
   "execution_count": null,
   "metadata": {},
   "outputs": [],
   "source": []
  },
  {
   "cell_type": "code",
   "execution_count": null,
   "metadata": {
    "scrolled": true
   },
   "outputs": [],
   "source": []
  },
  {
   "cell_type": "code",
   "execution_count": null,
   "metadata": {},
   "outputs": [],
   "source": []
  },
  {
   "cell_type": "code",
   "execution_count": null,
   "metadata": {},
   "outputs": [],
   "source": []
  },
  {
   "cell_type": "code",
   "execution_count": null,
   "metadata": {},
   "outputs": [],
   "source": []
  },
  {
   "cell_type": "code",
   "execution_count": null,
   "metadata": {},
   "outputs": [],
   "source": []
  },
  {
   "cell_type": "code",
   "execution_count": null,
   "metadata": {},
   "outputs": [],
   "source": []
  },
  {
   "cell_type": "code",
   "execution_count": null,
   "metadata": {},
   "outputs": [],
   "source": []
  }
 ],
 "metadata": {
  "kernelspec": {
   "display_name": "Python 3",
   "language": "python",
   "name": "python3"
  },
  "language_info": {
   "codemirror_mode": {
    "name": "ipython",
    "version": 3
   },
   "file_extension": ".py",
   "mimetype": "text/x-python",
   "name": "python",
   "nbconvert_exporter": "python",
   "pygments_lexer": "ipython3",
   "version": "3.6.7"
  }
 },
 "nbformat": 4,
 "nbformat_minor": 2
}
